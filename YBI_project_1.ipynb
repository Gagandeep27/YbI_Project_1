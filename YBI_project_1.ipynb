{
 "cells": [
  {
   "cell_type": "markdown",
   "id": "0821e8af-adb1-4a1b-b1bb-aa5f8b3abdb2",
   "metadata": {},
   "source": [
    "## Servo Motor Mechanism"
   ]
  },
  {
   "cell_type": "markdown",
   "id": "82086b4d-873e-4f9e-89a7-2c893c6354fd",
   "metadata": {},
   "source": [
    "#### A servo motor mechanism is a system designed to precisely control the angular or linear position, velocity, and acceleration of an object. It consists of a motor coupled with a sensor for position feedback. The feedback allows the system to adjust the motor's movement to achieve the desired position or speed accurately. Servo motors are widely used in applications like robotics, CNC machinery, and automated manufacturing due to their high precision and reliability."
   ]
  },
  {
   "cell_type": "markdown",
   "id": "ec5ce930-f6bc-461a-b0d4-8d37eaf07b1b",
   "metadata": {},
   "source": [
    "### Objective"
   ]
  },
  {
   "cell_type": "markdown",
   "id": "d83dd100-691d-42e9-85e0-f7e780e978f5",
   "metadata": {},
   "source": [
    "#### The objective of this code is to build and evaluate a linear regression model to predict a target variable (`Class`) based on features from a dataset. It involves importing and preprocessing data, splitting it into training and testing sets, and training the model. The model's performance is then evaluated using metrics like mean squared error, mean absolute error, and R² score. Finally, the model is used to make predictions on new data."
   ]
  },
  {
   "cell_type": "markdown",
   "id": "12b75ec1-ba15-421a-89e8-54d8e3ca0be3",
   "metadata": {},
   "source": [
    "### Data Source"
   ]
  },
  {
   "cell_type": "markdown",
   "id": "3d896868-fb9d-41ea-82a4-2c0cf0472d33",
   "metadata": {},
   "source": [
    "#### A data source is the origin from which data is obtained for analysis, processing, or storage. It can be a database, a file (like CSV, Excel, or JSON), an API, a web service, or any other repository where data is stored. Data sources provide the necessary raw information for generating insights, making decisions, and supporting various applications. They are fundamental in data-driven tasks across different domains and industries."
   ]
  },
  {
   "cell_type": "markdown",
   "id": "33f0838d-0e47-4028-910a-cdd8f8284d13",
   "metadata": {},
   "source": [
    "### Import Library"
   ]
  },
  {
   "cell_type": "code",
   "execution_count": 1,
   "id": "838057ed-053e-4b7d-9f23-3dac95088a25",
   "metadata": {},
   "outputs": [],
   "source": [
    "import pandas as pd\n",
    "import numpy as np\n",
    "from sklearn.model_selection import train_test_split\n",
    "from sklearn.linear_model import LinearRegression\n",
    "from sklearn.metrics import mean_squared_error, mean_absolute_error, r2_score\n",
    "import matplotlib.pyplot as plt"
   ]
  },
  {
   "cell_type": "markdown",
   "id": "7c94accc-da6b-4120-844d-44560dea61aa",
   "metadata": {},
   "source": [
    "### Import Data"
   ]
  },
  {
   "cell_type": "code",
   "execution_count": 2,
   "id": "b641f989-e69d-46a1-aa76-b8c5886a99d8",
   "metadata": {},
   "outputs": [],
   "source": [
    "df = pd.read_csv(r'C:\\Users\\gdeep\\OneDrive\\Downloads\\Servo Mechanism.csv')"
   ]
  },
  {
   "cell_type": "markdown",
   "id": "f71c40c4-133b-452c-bd30-835e89ba54a1",
   "metadata": {},
   "source": [
    "### Describe Data"
   ]
  },
  {
   "cell_type": "code",
   "execution_count": 3,
   "id": "e40f95d1-ff25-4d00-9a25-e56e787a346c",
   "metadata": {},
   "outputs": [
    {
     "name": "stdout",
     "output_type": "stream",
     "text": [
      "  Motor Screw  Pgain  Vgain  Class\n",
      "0     E     E      5      4      4\n",
      "1     B     D      6      5     11\n",
      "2     D     D      4      3      6\n",
      "3     B     A      3      2     48\n",
      "4     D     B      6      5      6\n",
      "<class 'pandas.core.frame.DataFrame'>\n",
      "RangeIndex: 167 entries, 0 to 166\n",
      "Data columns (total 5 columns):\n",
      " #   Column  Non-Null Count  Dtype \n",
      "---  ------  --------------  ----- \n",
      " 0   Motor   167 non-null    object\n",
      " 1   Screw   167 non-null    object\n",
      " 2   Pgain   167 non-null    int64 \n",
      " 3   Vgain   167 non-null    int64 \n",
      " 4   Class   167 non-null    int64 \n",
      "dtypes: int64(3), object(2)\n",
      "memory usage: 6.7+ KB\n",
      "None\n",
      "            Pgain       Vgain       Class\n",
      "count  167.000000  167.000000  167.000000\n",
      "mean     4.155689    2.538922   21.173653\n",
      "std      1.017770    1.369850   13.908038\n",
      "min      3.000000    1.000000    1.000000\n",
      "25%      3.000000    1.000000   10.500000\n",
      "50%      4.000000    2.000000   18.000000\n",
      "75%      5.000000    4.000000   33.500000\n",
      "max      6.000000    5.000000   51.000000\n",
      "Index(['Motor', 'Screw', 'Pgain', 'Vgain', 'Class'], dtype='object')\n",
      "(167, 5)\n",
      "Motor\n",
      "C        40\n",
      "A        36\n",
      "B        36\n",
      "E        33\n",
      "D        22\n",
      "Name: count, dtype: int64\n",
      "Screw\n",
      "A        42\n",
      "B        35\n",
      "C        31\n",
      "D        30\n",
      "E        29\n",
      "Name: count, dtype: int64\n"
     ]
    }
   ],
   "source": [
    "print(df.head())\n",
    "print(df.info())\n",
    "print(df.describe())\n",
    "print(df.columns)\n",
    "print(df.shape)\n",
    "print(df[['Motor']].value_counts())\n",
    "print(df[['Screw']].value_counts())"
   ]
  },
  {
   "cell_type": "markdown",
   "id": "898a3bd5-5522-4367-83d2-9fb79ccae4c7",
   "metadata": {},
   "source": [
    "### Data Preprocessing"
   ]
  },
  {
   "cell_type": "code",
   "execution_count": 4,
   "id": "86ce42cd-d1a0-4809-b08a-220c75aff5b6",
   "metadata": {},
   "outputs": [],
   "source": [
    "df.replace({'Motor': {'A': 0, 'B': 1, 'C': 2, 'D': 3, 'E': 4}}, inplace=True)\n",
    "df.replace({'Screw': {'A': 0, 'B': 1, 'C': 2, 'D': 3, 'E': 4}}, inplace=True)"
   ]
  },
  {
   "cell_type": "markdown",
   "id": "2efade55-1d5c-4843-87fc-618d736a7730",
   "metadata": {},
   "source": [
    "### Define Target Variable (y) and Feature Variables (X)"
   ]
  },
  {
   "cell_type": "code",
   "execution_count": 5,
   "id": "85068404-6fc2-4e71-b8d2-7b5bc76bf770",
   "metadata": {},
   "outputs": [],
   "source": [
    "y = df['Class']\n",
    "x = df.drop('Class', axis=1)"
   ]
  },
  {
   "cell_type": "markdown",
   "id": "5af0aa34-e415-4a5e-b4d6-19e7854aacf5",
   "metadata": {},
   "source": [
    "### Train Test Split"
   ]
  },
  {
   "cell_type": "code",
   "execution_count": 6,
   "id": "d8b709eb-4342-46c0-b9ed-92e3f49e8194",
   "metadata": {},
   "outputs": [
    {
     "name": "stdout",
     "output_type": "stream",
     "text": [
      "(116, 4) (51, 4) (116,) (51,)\n"
     ]
    }
   ],
   "source": [
    "x_train, x_test, y_train, y_test = train_test_split(x, y, test_size=0.3, random_state=2529)\n",
    "print(x_train.shape, x_test.shape, y_train.shape, y_test.shape)"
   ]
  },
  {
   "cell_type": "markdown",
   "id": "6769d77a-d692-4e42-855c-f70c0e80f343",
   "metadata": {},
   "source": [
    "### Modeling"
   ]
  },
  {
   "cell_type": "code",
   "execution_count": 7,
   "id": "0172a1c1-f478-4cbb-90dc-1b6954827a36",
   "metadata": {},
   "outputs": [
    {
     "data": {
      "text/html": [
       "<style>#sk-container-id-1 {color: black;background-color: white;}#sk-container-id-1 pre{padding: 0;}#sk-container-id-1 div.sk-toggleable {background-color: white;}#sk-container-id-1 label.sk-toggleable__label {cursor: pointer;display: block;width: 100%;margin-bottom: 0;padding: 0.3em;box-sizing: border-box;text-align: center;}#sk-container-id-1 label.sk-toggleable__label-arrow:before {content: \"▸\";float: left;margin-right: 0.25em;color: #696969;}#sk-container-id-1 label.sk-toggleable__label-arrow:hover:before {color: black;}#sk-container-id-1 div.sk-estimator:hover label.sk-toggleable__label-arrow:before {color: black;}#sk-container-id-1 div.sk-toggleable__content {max-height: 0;max-width: 0;overflow: hidden;text-align: left;background-color: #f0f8ff;}#sk-container-id-1 div.sk-toggleable__content pre {margin: 0.2em;color: black;border-radius: 0.25em;background-color: #f0f8ff;}#sk-container-id-1 input.sk-toggleable__control:checked~div.sk-toggleable__content {max-height: 200px;max-width: 100%;overflow: auto;}#sk-container-id-1 input.sk-toggleable__control:checked~label.sk-toggleable__label-arrow:before {content: \"▾\";}#sk-container-id-1 div.sk-estimator input.sk-toggleable__control:checked~label.sk-toggleable__label {background-color: #d4ebff;}#sk-container-id-1 div.sk-label input.sk-toggleable__control:checked~label.sk-toggleable__label {background-color: #d4ebff;}#sk-container-id-1 input.sk-hidden--visually {border: 0;clip: rect(1px 1px 1px 1px);clip: rect(1px, 1px, 1px, 1px);height: 1px;margin: -1px;overflow: hidden;padding: 0;position: absolute;width: 1px;}#sk-container-id-1 div.sk-estimator {font-family: monospace;background-color: #f0f8ff;border: 1px dotted black;border-radius: 0.25em;box-sizing: border-box;margin-bottom: 0.5em;}#sk-container-id-1 div.sk-estimator:hover {background-color: #d4ebff;}#sk-container-id-1 div.sk-parallel-item::after {content: \"\";width: 100%;border-bottom: 1px solid gray;flex-grow: 1;}#sk-container-id-1 div.sk-label:hover label.sk-toggleable__label {background-color: #d4ebff;}#sk-container-id-1 div.sk-serial::before {content: \"\";position: absolute;border-left: 1px solid gray;box-sizing: border-box;top: 0;bottom: 0;left: 50%;z-index: 0;}#sk-container-id-1 div.sk-serial {display: flex;flex-direction: column;align-items: center;background-color: white;padding-right: 0.2em;padding-left: 0.2em;position: relative;}#sk-container-id-1 div.sk-item {position: relative;z-index: 1;}#sk-container-id-1 div.sk-parallel {display: flex;align-items: stretch;justify-content: center;background-color: white;position: relative;}#sk-container-id-1 div.sk-item::before, #sk-container-id-1 div.sk-parallel-item::before {content: \"\";position: absolute;border-left: 1px solid gray;box-sizing: border-box;top: 0;bottom: 0;left: 50%;z-index: -1;}#sk-container-id-1 div.sk-parallel-item {display: flex;flex-direction: column;z-index: 1;position: relative;background-color: white;}#sk-container-id-1 div.sk-parallel-item:first-child::after {align-self: flex-end;width: 50%;}#sk-container-id-1 div.sk-parallel-item:last-child::after {align-self: flex-start;width: 50%;}#sk-container-id-1 div.sk-parallel-item:only-child::after {width: 0;}#sk-container-id-1 div.sk-dashed-wrapped {border: 1px dashed gray;margin: 0 0.4em 0.5em 0.4em;box-sizing: border-box;padding-bottom: 0.4em;background-color: white;}#sk-container-id-1 div.sk-label label {font-family: monospace;font-weight: bold;display: inline-block;line-height: 1.2em;}#sk-container-id-1 div.sk-label-container {text-align: center;}#sk-container-id-1 div.sk-container {/* jupyter's `normalize.less` sets `[hidden] { display: none; }` but bootstrap.min.css set `[hidden] { display: none !important; }` so we also need the `!important` here to be able to override the default hidden behavior on the sphinx rendered scikit-learn.org. See: https://github.com/scikit-learn/scikit-learn/issues/21755 */display: inline-block !important;position: relative;}#sk-container-id-1 div.sk-text-repr-fallback {display: none;}</style><div id=\"sk-container-id-1\" class=\"sk-top-container\"><div class=\"sk-text-repr-fallback\"><pre>LinearRegression()</pre><b>In a Jupyter environment, please rerun this cell to show the HTML representation or trust the notebook. <br />On GitHub, the HTML representation is unable to render, please try loading this page with nbviewer.org.</b></div><div class=\"sk-container\" hidden><div class=\"sk-item\"><div class=\"sk-estimator sk-toggleable\"><input class=\"sk-toggleable__control sk-hidden--visually\" id=\"sk-estimator-id-1\" type=\"checkbox\" checked><label for=\"sk-estimator-id-1\" class=\"sk-toggleable__label sk-toggleable__label-arrow\">LinearRegression</label><div class=\"sk-toggleable__content\"><pre>LinearRegression()</pre></div></div></div></div></div>"
      ],
      "text/plain": [
       "LinearRegression()"
      ]
     },
     "execution_count": 7,
     "metadata": {},
     "output_type": "execute_result"
    }
   ],
   "source": [
    "lr = LinearRegression()\n",
    "lr.fit(x_train, y_train)"
   ]
  },
  {
   "cell_type": "markdown",
   "id": "2e5b6b9b-bb1d-4810-a029-b927ab732dc9",
   "metadata": {},
   "source": [
    "### Model Evaluation"
   ]
  },
  {
   "cell_type": "code",
   "execution_count": 8,
   "id": "ea1cf972-e8d3-48f7-bf97-d6b7dafc6455",
   "metadata": {},
   "outputs": [
    {
     "name": "stdout",
     "output_type": "stream",
     "text": [
      "(51,)\n",
      "66.03589175595566\n",
      "7.1905396772512375\n",
      "0.6807245170563926\n"
     ]
    }
   ],
   "source": [
    "y_pred = lr.predict(x_test)\n",
    "print(y_pred.shape)\n",
    "print(mean_squared_error(y_test, y_pred))\n",
    "print(mean_absolute_error(y_test, y_pred))\n",
    "print(r2_score(y_test, y_pred))"
   ]
  },
  {
   "cell_type": "markdown",
   "id": "a58bc94d-fb64-48b9-a5b4-b7bd5aea7955",
   "metadata": {},
   "source": [
    "### Data Visualization"
   ]
  },
  {
   "cell_type": "code",
   "execution_count": 9,
   "id": "4286b84e-72a2-495b-80da-80de707ae88c",
   "metadata": {},
   "outputs": [
    {
     "data": {
      "image/png": "[encoded data removed]",
      "text/plain": [
       "<Figure size 640x480 with 1 Axes>"
      ]
     },
     "metadata": {},
     "output_type": "display_data"
    }
   ],
   "source": [
    "plt.scatter(y_test, y_pred)\n",
    "plt.xlabel(\"Actual\")\n",
    "plt.ylabel(\"Predicted\")\n",
    "plt.title(\"Actual Vs Predicted\")\n",
    "plt.show()"
   ]
  },
  {
   "cell_type": "markdown",
   "id": "e6b2459a-9ecb-4f89-bfa0-5fe1d06cca28",
   "metadata": {},
   "source": [
    "### Prediction"
   ]
  },
  {
   "cell_type": "code",
   "execution_count": 10,
   "id": "bdebf05a-1b3d-479a-bd02-b4aa8d58141f",
   "metadata": {},
   "outputs": [
    {
     "name": "stdout",
     "output_type": "stream",
     "text": [
      "[25.00857912]\n"
     ]
    }
   ],
   "source": [
    "x_new = df.sample(1)\n",
    "x_new = x_new.drop('Class', axis=1)\n",
    "y_pred_new = lr.predict(x_new)\n",
    "print(y_pred_new)"
   ]
  },
  {
   "cell_type": "markdown",
   "id": "98410edf-563e-482f-8453-652d728d41f0",
   "metadata": {},
   "source": [
    "### Explanation"
   ]
  },
  {
   "cell_type": "markdown",
   "id": "77b3ffa5-0691-4472-8075-c29326b46f45",
   "metadata": {},
   "source": [
    "#### Import Library: This section imports the necessary libraries for data manipulation, model building, and evaluation.\n",
    "Import Data: Reads the CSV file into a pandas DataFrame.\n",
    "\n",
    "Describe Data: Displays the first few rows, information about the DataFrame, descriptive statistics, column names, shape, and value counts of specific columns.\n",
    "\n",
    "Data Preprocessing: Replaces categorical values with numerical values for modeling.\n",
    "\n",
    "Define Target Variable (y) and Feature Variables (X): Separates the target variable (Class) and features.\n",
    "\n",
    "Train Test Split: Splits the data into training and testing sets.\n",
    "\n",
    "Modeling: Creates and trains a linear regression model.\n",
    "\n",
    "Model Evaluation: Predicts the test set results and evaluates the model's performance using MSE, MAE, and R² score.\n",
    "\n",
    "Data Visualization: Plots actual vs. predicted values to visualize the model's performance.\n",
    "\n",
    "Prediction: Makes a prediction for a new sample from the DataFrame."
   ]
  }
 ],
 "metadata": {
  "kernelspec": {
   "display_name": "Python 3 (ipykernel)",
   "language": "python",
   "name": "python3"
  },
  "language_info": {
   "codemirror_mode": {
    "name": "ipython",
    "version": 3
   },
   "file_extension": ".py",
   "mimetype": "text/x-python",
   "name": "python",
   "nbconvert_exporter": "python",
   "pygments_lexer": "ipython3",
   "version": "3.11.5"
  }
 },
 "nbformat": 4,
 "nbformat_minor": 5
}
